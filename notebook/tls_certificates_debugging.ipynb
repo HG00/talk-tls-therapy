{
 "cells": [
  {
   "cell_type": "markdown",
   "id": "48e1ba6b",
   "metadata": {},
   "source": [
    "# TLS & Certificates: Interactive Debugging and Common Pitfalls\n",
    "https://github.com/HG00/talk-tls-therapy"
   ]
  },
  {
   "cell_type": "markdown",
   "id": "5180cc6e",
   "metadata": {},
   "source": [
    "## Section 1: Basic Certificate Inspection"
   ]
  },
  {
   "cell_type": "code",
   "execution_count": null,
   "id": "e0d2a07a",
   "metadata": {},
   "outputs": [],
   "source": [
    "\n",
    "import ssl\n",
    "import socket\n",
    "from datetime import datetime, timezone\n",
    "\n",
    "def get_cert_info(hostname, port=443):\n",
    "    context = ssl.create_default_context()\n",
    "    with socket.create_connection((hostname, port)) as sock:\n",
    "        with context.wrap_socket(sock, server_hostname=hostname) as ssock:\n",
    "            cert = ssock.getpeercert()\n",
    "            return cert\n",
    "\n",
    "cert = get_cert_info('example.com')\n",
    "print(\"Issuer:\", cert['issuer'])\n",
    "print(\"Subject:\", cert['subject'])\n",
    "print(\"Validity:\", cert['notBefore'], \"to\", cert['notAfter'])\n"
   ]
  },
  {
   "cell_type": "markdown",
   "id": "d5f1c20d",
   "metadata": {},
   "source": [
    "## Section 2: Certificate Date Validation"
   ]
  },
  {
   "cell_type": "code",
   "execution_count": null,
   "id": "7a5f99ef",
   "metadata": {},
   "outputs": [],
   "source": [
    "\n",
    "def is_cert_valid_now(cert):\n",
    "    date_format = \"%b %d %H:%M:%S %Y %Z\"\n",
    "    not_before = datetime.strptime(cert['notBefore'], date_format).replace(tzinfo=timezone.utc)\n",
    "    not_after = datetime.strptime(cert['notAfter'], date_format).replace(tzinfo=timezone.utc)\n",
    "    now = datetime.now(timezone.utc)\n",
    "    return not_before <= now <= not_after\n",
    "\n",
    "print(\"Is certificate valid now?\", is_cert_valid_now(cert))\n"
   ]
  },
  {
   "cell_type": "markdown",
   "id": "04bc9d2c",
   "metadata": {},
   "source": [
    "## Section 3: Certificate Chain Validation"
   ]
  },
  {
   "cell_type": "code",
   "execution_count": null,
   "id": "c9991cd0",
   "metadata": {},
   "outputs": [],
   "source": [
    "\n",
    "import requests\n",
    "\n",
    "def test_cert_chain(url):\n",
    "    try:\n",
    "        response = requests.get(url)\n",
    "        print(\"Successful connection:\", response.status_code)\n",
    "    except requests.exceptions.SSLError as e:\n",
    "        print(\"SSL error:\", e)\n",
    "\n",
    "test_cert_chain('https://expired.badssl.com')\n",
    "test_cert_chain('https://wrong.host.badssl.com')\n"
   ]
  },
  {
   "cell_type": "markdown",
   "id": "667afef3",
   "metadata": {},
   "source": [
    "## Section 4: Using curl for TLS Debugging"
   ]
  },
  {
   "cell_type": "code",
   "execution_count": null,
   "id": "914b25b6",
   "metadata": {},
   "outputs": [],
   "source": [
    "# Wrong date\n",
    "!curl -v https://expired.badssl.com"
   ]
  },
  {
   "cell_type": "code",
   "execution_count": null,
   "id": "09598403",
   "metadata": {},
   "outputs": [],
   "source": [
    "# Wrong CN or SAN\n",
    "!curl -v https://wrong.host.badssl.com"
   ]
  },
  {
   "cell_type": "code",
   "execution_count": null,
   "id": "afbedf22",
   "metadata": {},
   "outputs": [],
   "source": [
    "# Unknown Root CA\n",
    "!curl -v https://untrusted-root.badssl.com"
   ]
  },
  {
   "cell_type": "code",
   "execution_count": null,
   "id": "2e64a205",
   "metadata": {},
   "outputs": [],
   "source": [
    "# Bad chain\n",
    "!curl -v https://invalid-expected-sct.badssl.com"
   ]
  },
  {
   "cell_type": "code",
   "execution_count": null,
   "id": "35a31082",
   "metadata": {},
   "outputs": [],
   "source": [
    "# Check your client TLS - just hit this URL for a json response\n",
    "!curl https://check.tls.support/"
   ]
  },
  {
   "cell_type": "code",
   "execution_count": null,
   "id": "1fbed0da",
   "metadata": {},
   "outputs": [],
   "source": [
    "# Get some details on a certificate\n",
    "!curl echo | openssl s_client -connect cloud.cambiumnetworks.com:443 | openssl x509 -noout -text"
   ]
  },
  {
   "cell_type": "markdown",
   "id": "40a2d2b1",
   "metadata": {},
   "source": [
    "## Section 5: Detecting MITM Proxies"
   ]
  },
  {
   "cell_type": "markdown",
   "id": "c76c74f5",
   "metadata": {},
   "source": [
    "\n",
    "Detect MITM proxies using curl:\n",
    "\n",
    "```\n",
    "curl -v https://example.com\n",
    "```\n",
    "\n",
    "Review the issuer in the output for suspicious certificates.\n"
   ]
  },
  {
   "cell_type": "markdown",
   "id": "922646c3",
   "metadata": {},
   "source": [
    "## Section 6: When TLS Goes Wrong - Quick Reference"
   ]
  },
  {
   "cell_type": "code",
   "execution_count": null,
   "id": "00a3c759",
   "metadata": {},
   "outputs": [],
   "source": [
    "\n",
    "issues_examples = {\n",
    "    \"Expired Certificate\": \"https://expired.badssl.com\",\n",
    "    \"Wrong Hostname\": \"https://wrong.host.badssl.com\",\n",
    "    \"Self-signed Certificate\": \"https://self-signed.badssl.com\",\n",
    "    \"Untrusted Root\": \"https://untrusted-root.badssl.com\",\n",
    "    \"Incomplete Chain\": \"https://incomplete-chain.badssl.com\",\n",
    "    \"Invalid Intermediate\": \"https://invalid-expected-sct.badssl.com\",\n",
    "}\n",
    "\n",
    "for issue, url in issues_examples.items():\n",
    "    print(f\"Testing {issue}:\")\n",
    "    test_cert_chain(url)\n",
    "    print(\"-\" * 60)\n"
   ]
  },
  {
   "cell_type": "markdown",
   "id": "d9725f03",
   "metadata": {},
   "source": [
    "## Section 7: Hands-On Exercise - Debug Your Own TLS"
   ]
  },
  {
   "cell_type": "code",
   "execution_count": null,
   "id": "d408970a",
   "metadata": {},
   "outputs": [],
   "source": [
    "\n",
    "# Uncomment and run to debug your own host\n",
    "# user_host = input(\"Enter your host to debug TLS: \")\n",
    "# cert = get_cert_info(user_host)\n",
    "# print(cert)\n",
    "# test_cert_chain(f'https://{user_host}')\n"
   ]
  }
 ],
 "metadata": {
  "kernelspec": {
   "display_name": "Python 3 (ipykernel)",
   "language": "python",
   "name": "python3"
  },
  "language_info": {
   "codemirror_mode": {
    "name": "ipython",
    "version": 3
   },
   "file_extension": ".py",
   "mimetype": "text/x-python",
   "name": "python",
   "nbconvert_exporter": "python",
   "pygments_lexer": "ipython3",
   "version": "3.12.7"
  }
 },
 "nbformat": 4,
 "nbformat_minor": 5
}
